{
 "cells": [
  {
   "cell_type": "code",
   "execution_count": 87,
   "id": "1d879fcf",
   "metadata": {},
   "outputs": [],
   "source": [
    "import numpy as np\n",
    "import pandas as pd\n",
    "import matplotlib.pyplot as plt\n",
    "from sklearn.preprocessing import LabelEncoder\n",
    "from sklearn.model_selection import train_test_split\n",
    "from sklearn.utils import shuffle"
   ]
  },
  {
   "cell_type": "code",
   "execution_count": 88,
   "id": "9a0b13a8",
   "metadata": {},
   "outputs": [],
   "source": [
    "df = pd.read_csv(\"Datasets/pdb_data_seq.csv\")"
   ]
  },
  {
   "cell_type": "code",
   "execution_count": 89,
   "id": "108a573a",
   "metadata": {},
   "outputs": [
    {
     "data": {
      "text/html": [
       "<div>\n",
       "<style scoped>\n",
       "    .dataframe tbody tr th:only-of-type {\n",
       "        vertical-align: middle;\n",
       "    }\n",
       "\n",
       "    .dataframe tbody tr th {\n",
       "        vertical-align: top;\n",
       "    }\n",
       "\n",
       "    .dataframe thead th {\n",
       "        text-align: right;\n",
       "    }\n",
       "</style>\n",
       "<table border=\"1\" class=\"dataframe\">\n",
       "  <thead>\n",
       "    <tr style=\"text-align: right;\">\n",
       "      <th></th>\n",
       "      <th>structureId</th>\n",
       "      <th>chainId</th>\n",
       "      <th>sequence</th>\n",
       "      <th>residueCount</th>\n",
       "      <th>macromoleculeType</th>\n",
       "    </tr>\n",
       "  </thead>\n",
       "  <tbody>\n",
       "    <tr>\n",
       "      <th>0</th>\n",
       "      <td>100D</td>\n",
       "      <td>A</td>\n",
       "      <td>CCGGCGCCGG</td>\n",
       "      <td>20</td>\n",
       "      <td>DNA/RNA Hybrid</td>\n",
       "    </tr>\n",
       "    <tr>\n",
       "      <th>1</th>\n",
       "      <td>100D</td>\n",
       "      <td>B</td>\n",
       "      <td>CCGGCGCCGG</td>\n",
       "      <td>20</td>\n",
       "      <td>DNA/RNA Hybrid</td>\n",
       "    </tr>\n",
       "    <tr>\n",
       "      <th>2</th>\n",
       "      <td>101D</td>\n",
       "      <td>A</td>\n",
       "      <td>CGCGAATTCGCG</td>\n",
       "      <td>24</td>\n",
       "      <td>DNA</td>\n",
       "    </tr>\n",
       "    <tr>\n",
       "      <th>3</th>\n",
       "      <td>101D</td>\n",
       "      <td>B</td>\n",
       "      <td>CGCGAATTCGCG</td>\n",
       "      <td>24</td>\n",
       "      <td>DNA</td>\n",
       "    </tr>\n",
       "    <tr>\n",
       "      <th>4</th>\n",
       "      <td>101M</td>\n",
       "      <td>A</td>\n",
       "      <td>MVLSEGEWQLVLHVWAKVEADVAGHGQDILIRLFKSHPETLEKFDR...</td>\n",
       "      <td>154</td>\n",
       "      <td>Protein</td>\n",
       "    </tr>\n",
       "  </tbody>\n",
       "</table>\n",
       "</div>"
      ],
      "text/plain": [
       "  structureId chainId                                           sequence  \\\n",
       "0        100D       A                                         CCGGCGCCGG   \n",
       "1        100D       B                                         CCGGCGCCGG   \n",
       "2        101D       A                                       CGCGAATTCGCG   \n",
       "3        101D       B                                       CGCGAATTCGCG   \n",
       "4        101M       A  MVLSEGEWQLVLHVWAKVEADVAGHGQDILIRLFKSHPETLEKFDR...   \n",
       "\n",
       "   residueCount macromoleculeType  \n",
       "0            20    DNA/RNA Hybrid  \n",
       "1            20    DNA/RNA Hybrid  \n",
       "2            24               DNA  \n",
       "3            24               DNA  \n",
       "4           154           Protein  "
      ]
     },
     "execution_count": 89,
     "metadata": {},
     "output_type": "execute_result"
    }
   ],
   "source": [
    "df.head()"
   ]
  },
  {
   "cell_type": "code",
   "execution_count": 90,
   "id": "9ec110c5",
   "metadata": {},
   "outputs": [
    {
     "data": {
      "text/plain": [
       "(467304, 5)"
      ]
     },
     "execution_count": 90,
     "metadata": {},
     "output_type": "execute_result"
    }
   ],
   "source": [
    "df.shape"
   ]
  },
  {
   "cell_type": "code",
   "execution_count": 91,
   "id": "3e5e0094",
   "metadata": {},
   "outputs": [
    {
     "data": {
      "text/plain": [
       "structureId              0\n",
       "chainId                 10\n",
       "sequence                28\n",
       "residueCount             0\n",
       "macromoleculeType    34817\n",
       "dtype: int64"
      ]
     },
     "execution_count": 91,
     "metadata": {},
     "output_type": "execute_result"
    }
   ],
   "source": [
    "df.isna().sum()"
   ]
  },
  {
   "cell_type": "code",
   "execution_count": 92,
   "id": "3e1a2415",
   "metadata": {},
   "outputs": [],
   "source": [
    "df.dropna(inplace=True)"
   ]
  },
  {
   "cell_type": "code",
   "execution_count": 93,
   "id": "97a2770e",
   "metadata": {},
   "outputs": [
    {
     "data": {
      "text/plain": [
       "(432474, 5)"
      ]
     },
     "execution_count": 93,
     "metadata": {},
     "output_type": "execute_result"
    }
   ],
   "source": [
    "df.shape"
   ]
  },
  {
   "cell_type": "code",
   "execution_count": 95,
   "id": "455e37c0",
   "metadata": {},
   "outputs": [],
   "source": [
    "sequences = df[\"sequence\"].to_numpy()\n",
    "chars = []"
   ]
  },
  {
   "cell_type": "code",
   "execution_count": 97,
   "id": "8a40436d",
   "metadata": {},
   "outputs": [],
   "source": [
    "for s in sequences:\n",
    "    for c in s:\n",
    "        if c not in chars:\n",
    "            chars.append(c)"
   ]
  },
  {
   "cell_type": "code",
   "execution_count": 99,
   "id": "f889862e",
   "metadata": {},
   "outputs": [],
   "source": [
    "chars.sort()"
   ]
  },
  {
   "cell_type": "code",
   "execution_count": 100,
   "id": "0e26840a",
   "metadata": {},
   "outputs": [
    {
     "data": {
      "text/plain": [
       "['A',\n",
       " 'B',\n",
       " 'C',\n",
       " 'D',\n",
       " 'E',\n",
       " 'F',\n",
       " 'G',\n",
       " 'H',\n",
       " 'I',\n",
       " 'K',\n",
       " 'L',\n",
       " 'M',\n",
       " 'N',\n",
       " 'O',\n",
       " 'P',\n",
       " 'Q',\n",
       " 'R',\n",
       " 'S',\n",
       " 'T',\n",
       " 'U',\n",
       " 'V',\n",
       " 'W',\n",
       " 'X',\n",
       " 'Y',\n",
       " 'Z']"
      ]
     },
     "execution_count": 100,
     "metadata": {},
     "output_type": "execute_result"
    }
   ],
   "source": [
    "chars"
   ]
  },
  {
   "cell_type": "code",
   "execution_count": 101,
   "id": "cbad50df",
   "metadata": {},
   "outputs": [
    {
     "data": {
      "text/html": [
       "<div>\n",
       "<style scoped>\n",
       "    .dataframe tbody tr th:only-of-type {\n",
       "        vertical-align: middle;\n",
       "    }\n",
       "\n",
       "    .dataframe tbody tr th {\n",
       "        vertical-align: top;\n",
       "    }\n",
       "\n",
       "    .dataframe thead th {\n",
       "        text-align: right;\n",
       "    }\n",
       "</style>\n",
       "<table border=\"1\" class=\"dataframe\">\n",
       "  <thead>\n",
       "    <tr style=\"text-align: right;\">\n",
       "      <th></th>\n",
       "      <th>structureId</th>\n",
       "      <th>chainId</th>\n",
       "      <th>sequence</th>\n",
       "      <th>residueCount</th>\n",
       "      <th>macromoleculeType</th>\n",
       "    </tr>\n",
       "  </thead>\n",
       "  <tbody>\n",
       "    <tr>\n",
       "      <th>0</th>\n",
       "      <td>100D</td>\n",
       "      <td>A</td>\n",
       "      <td>CCGGCGCCGG</td>\n",
       "      <td>20</td>\n",
       "      <td>DNA/RNA Hybrid</td>\n",
       "    </tr>\n",
       "    <tr>\n",
       "      <th>1</th>\n",
       "      <td>100D</td>\n",
       "      <td>B</td>\n",
       "      <td>CCGGCGCCGG</td>\n",
       "      <td>20</td>\n",
       "      <td>DNA/RNA Hybrid</td>\n",
       "    </tr>\n",
       "    <tr>\n",
       "      <th>13</th>\n",
       "      <td>104D</td>\n",
       "      <td>A</td>\n",
       "      <td>CGCGTATACGCG</td>\n",
       "      <td>24</td>\n",
       "      <td>DNA/RNA Hybrid</td>\n",
       "    </tr>\n",
       "    <tr>\n",
       "      <th>14</th>\n",
       "      <td>104D</td>\n",
       "      <td>B</td>\n",
       "      <td>CGCGTATACGCG</td>\n",
       "      <td>24</td>\n",
       "      <td>DNA/RNA Hybrid</td>\n",
       "    </tr>\n",
       "    <tr>\n",
       "      <th>216</th>\n",
       "      <td>161D</td>\n",
       "      <td>A</td>\n",
       "      <td>CCGGCGCCGG</td>\n",
       "      <td>20</td>\n",
       "      <td>DNA/RNA Hybrid</td>\n",
       "    </tr>\n",
       "    <tr>\n",
       "      <th>...</th>\n",
       "      <td>...</td>\n",
       "      <td>...</td>\n",
       "      <td>...</td>\n",
       "      <td>...</td>\n",
       "      <td>...</td>\n",
       "    </tr>\n",
       "    <tr>\n",
       "      <th>440688</th>\n",
       "      <td>5T5A</td>\n",
       "      <td>A</td>\n",
       "      <td>GCAGGGCAAGGCCCAGUCCCGUGCAAGCCGGGACCGCCCCGGGGCG...</td>\n",
       "      <td>62</td>\n",
       "      <td>DNA/RNA Hybrid</td>\n",
       "    </tr>\n",
       "    <tr>\n",
       "      <th>442563</th>\n",
       "      <td>5TGG</td>\n",
       "      <td>A</td>\n",
       "      <td>TAAAAAAAA</td>\n",
       "      <td>18</td>\n",
       "      <td>DNA/RNA Hybrid</td>\n",
       "    </tr>\n",
       "    <tr>\n",
       "      <th>442564</th>\n",
       "      <td>5TGG</td>\n",
       "      <td>B</td>\n",
       "      <td>TAAAAAAAA</td>\n",
       "      <td>18</td>\n",
       "      <td>DNA/RNA Hybrid</td>\n",
       "    </tr>\n",
       "    <tr>\n",
       "      <th>452862</th>\n",
       "      <td>5VXQ</td>\n",
       "      <td>A</td>\n",
       "      <td>AAAAAAAAAAA</td>\n",
       "      <td>22</td>\n",
       "      <td>DNA/RNA Hybrid</td>\n",
       "    </tr>\n",
       "    <tr>\n",
       "      <th>452863</th>\n",
       "      <td>5VXQ</td>\n",
       "      <td>B</td>\n",
       "      <td>AAAAAAAAAAA</td>\n",
       "      <td>22</td>\n",
       "      <td>DNA/RNA Hybrid</td>\n",
       "    </tr>\n",
       "  </tbody>\n",
       "</table>\n",
       "<p>141 rows × 5 columns</p>\n",
       "</div>"
      ],
      "text/plain": [
       "       structureId chainId                                           sequence  \\\n",
       "0             100D       A                                         CCGGCGCCGG   \n",
       "1             100D       B                                         CCGGCGCCGG   \n",
       "13            104D       A                                       CGCGTATACGCG   \n",
       "14            104D       B                                       CGCGTATACGCG   \n",
       "216           161D       A                                         CCGGCGCCGG   \n",
       "...            ...     ...                                                ...   \n",
       "440688        5T5A       A  GCAGGGCAAGGCCCAGUCCCGUGCAAGCCGGGACCGCCCCGGGGCG...   \n",
       "442563        5TGG       A                                          TAAAAAAAA   \n",
       "442564        5TGG       B                                          TAAAAAAAA   \n",
       "452862        5VXQ       A                                        AAAAAAAAAAA   \n",
       "452863        5VXQ       B                                        AAAAAAAAAAA   \n",
       "\n",
       "        residueCount macromoleculeType  \n",
       "0                 20    DNA/RNA Hybrid  \n",
       "1                 20    DNA/RNA Hybrid  \n",
       "13                24    DNA/RNA Hybrid  \n",
       "14                24    DNA/RNA Hybrid  \n",
       "216               20    DNA/RNA Hybrid  \n",
       "...              ...               ...  \n",
       "440688            62    DNA/RNA Hybrid  \n",
       "442563            18    DNA/RNA Hybrid  \n",
       "442564            18    DNA/RNA Hybrid  \n",
       "452862            22    DNA/RNA Hybrid  \n",
       "452863            22    DNA/RNA Hybrid  \n",
       "\n",
       "[141 rows x 5 columns]"
      ]
     },
     "execution_count": 101,
     "metadata": {},
     "output_type": "execute_result"
    }
   ],
   "source": [
    "df[df[\"macromoleculeType\"]==\"DNA/RNA Hybrid\"]"
   ]
  },
  {
   "cell_type": "code",
   "execution_count": null,
   "id": "4c611413",
   "metadata": {},
   "outputs": [],
   "source": []
  },
  {
   "cell_type": "code",
   "execution_count": 59,
   "id": "c217fbc9",
   "metadata": {},
   "outputs": [
    {
     "name": "stdout",
     "output_type": "stream",
     "text": [
      "13\n",
      "['DNA/RNA Hybrid' 'DNA' 'Protein' 'Protein#DNA' 'DNA#RNA' 'RNA'\n",
      " 'DNA#DNA/RNA Hybrid' 'Protein#RNA' 'RNA#DNA/RNA Hybrid'\n",
      " 'Protein#DNA/RNA Hybrid' 'Protein#DNA#RNA' 'Protein#DNA#DNA/RNA Hybrid'\n",
      " 'Protein#RNA#DNA/RNA Hybrid']\n"
     ]
    }
   ],
   "source": [
    "print(len(df[\"macromoleculeType\"].unique()))\n",
    "classes = df[\"macromoleculeType\"].unique()\n",
    "print(classes)"
   ]
  },
  {
   "cell_type": "code",
   "execution_count": 60,
   "id": "48a53a78",
   "metadata": {},
   "outputs": [
    {
     "name": "stdout",
     "output_type": "stream",
     "text": [
      "DNA/RNA Hybrid --------> 141\n",
      "DNA --------> 3784\n",
      "Protein --------> 345175\n",
      "Protein#DNA --------> 21303\n",
      "DNA#RNA --------> 121\n",
      "RNA --------> 2389\n",
      "DNA#DNA/RNA Hybrid --------> 26\n",
      "Protein#RNA --------> 56219\n",
      "RNA#DNA/RNA Hybrid --------> 74\n",
      "Protein#DNA/RNA Hybrid --------> 68\n",
      "Protein#DNA#RNA --------> 2712\n",
      "Protein#DNA#DNA/RNA Hybrid --------> 159\n",
      "Protein#RNA#DNA/RNA Hybrid --------> 303\n"
     ]
    }
   ],
   "source": [
    "for c in classes:\n",
    "    print(c, \"-------->\" ,df[df[\"macromoleculeType\"]==c].shape[0])"
   ]
  },
  {
   "cell_type": "code",
   "execution_count": 61,
   "id": "5f363432",
   "metadata": {},
   "outputs": [
    {
     "data": {
      "text/plain": [
       "array(['A', 'B', 'C', ..., 'z7', 'z8', 'z9'], dtype=object)"
      ]
     },
     "execution_count": 61,
     "metadata": {},
     "output_type": "execute_result"
    }
   ],
   "source": [
    "df[\"chainId\"].unique()"
   ]
  },
  {
   "cell_type": "code",
   "execution_count": 62,
   "id": "3c32c38e",
   "metadata": {},
   "outputs": [
    {
     "data": {
      "text/plain": [
       "'MNIFEMLRIDEGLRLKIYKDTEGYYTIGIGHLLTKSPSLNAAKSELDKAIGRNTNGVITKDEAEKLFNQDVDAATRGILRNAKLKPVYDSLDAVRRAALINMVFQMGETGVAGFTNSLRMLQQKRWDEAAVNLAKSRWYNQTPNRAKRVITTFRTGTWDAYKNL'"
      ]
     },
     "execution_count": 62,
     "metadata": {},
     "output_type": "execute_result"
    }
   ],
   "source": [
    "df[\"sequence\"][100]"
   ]
  },
  {
   "cell_type": "code",
   "execution_count": 63,
   "id": "edb03239",
   "metadata": {},
   "outputs": [
    {
     "data": {
      "text/plain": [
       "<Axes: xlabel='macromoleculeType'>"
      ]
     },
     "execution_count": 63,
     "metadata": {},
     "output_type": "execute_result"
    },
    {
     "data": {
      "image/png": "[encoded data removed]",
      "text/plain": [
       "<Figure size 640x480 with 1 Axes>"
      ]
     },
     "metadata": {},
     "output_type": "display_data"
    }
   ],
   "source": [
    "df['macromoleculeType'].value_counts().plot(kind='bar')"
   ]
  },
  {
   "cell_type": "code",
   "execution_count": 64,
   "id": "d1d7bc68",
   "metadata": {},
   "outputs": [],
   "source": [
    "encoder = LabelEncoder()"
   ]
  },
  {
   "cell_type": "code",
   "execution_count": 65,
   "id": "db308e30",
   "metadata": {},
   "outputs": [],
   "source": [
    "df[\"sequence\"] = encoder.fit_transform(df[\"sequence\"])"
   ]
  },
  {
   "cell_type": "code",
   "execution_count": 66,
   "id": "fd6f32b5",
   "metadata": {},
   "outputs": [
    {
     "data": {
      "text/html": [
       "<div>\n",
       "<style scoped>\n",
       "    .dataframe tbody tr th:only-of-type {\n",
       "        vertical-align: middle;\n",
       "    }\n",
       "\n",
       "    .dataframe tbody tr th {\n",
       "        vertical-align: top;\n",
       "    }\n",
       "\n",
       "    .dataframe thead th {\n",
       "        text-align: right;\n",
       "    }\n",
       "</style>\n",
       "<table border=\"1\" class=\"dataframe\">\n",
       "  <thead>\n",
       "    <tr style=\"text-align: right;\">\n",
       "      <th></th>\n",
       "      <th>structureId</th>\n",
       "      <th>chainId</th>\n",
       "      <th>sequence</th>\n",
       "      <th>residueCount</th>\n",
       "      <th>macromoleculeType</th>\n",
       "    </tr>\n",
       "  </thead>\n",
       "  <tbody>\n",
       "    <tr>\n",
       "      <th>0</th>\n",
       "      <td>100D</td>\n",
       "      <td>A</td>\n",
       "      <td>9178</td>\n",
       "      <td>20</td>\n",
       "      <td>DNA/RNA Hybrid</td>\n",
       "    </tr>\n",
       "    <tr>\n",
       "      <th>1</th>\n",
       "      <td>100D</td>\n",
       "      <td>B</td>\n",
       "      <td>9178</td>\n",
       "      <td>20</td>\n",
       "      <td>DNA/RNA Hybrid</td>\n",
       "    </tr>\n",
       "    <tr>\n",
       "      <th>2</th>\n",
       "      <td>101D</td>\n",
       "      <td>A</td>\n",
       "      <td>9635</td>\n",
       "      <td>24</td>\n",
       "      <td>DNA</td>\n",
       "    </tr>\n",
       "    <tr>\n",
       "      <th>3</th>\n",
       "      <td>101D</td>\n",
       "      <td>B</td>\n",
       "      <td>9635</td>\n",
       "      <td>24</td>\n",
       "      <td>DNA</td>\n",
       "    </tr>\n",
       "    <tr>\n",
       "      <th>4</th>\n",
       "      <td>101M</td>\n",
       "      <td>A</td>\n",
       "      <td>80596</td>\n",
       "      <td>154</td>\n",
       "      <td>Protein</td>\n",
       "    </tr>\n",
       "    <tr>\n",
       "      <th>...</th>\n",
       "      <td>...</td>\n",
       "      <td>...</td>\n",
       "      <td>...</td>\n",
       "      <td>...</td>\n",
       "      <td>...</td>\n",
       "    </tr>\n",
       "    <tr>\n",
       "      <th>467299</th>\n",
       "      <td>9XIA</td>\n",
       "      <td>A</td>\n",
       "      <td>68952</td>\n",
       "      <td>388</td>\n",
       "      <td>Protein</td>\n",
       "    </tr>\n",
       "    <tr>\n",
       "      <th>467300</th>\n",
       "      <td>9XIM</td>\n",
       "      <td>A</td>\n",
       "      <td>96151</td>\n",
       "      <td>1572</td>\n",
       "      <td>Protein</td>\n",
       "    </tr>\n",
       "    <tr>\n",
       "      <th>467301</th>\n",
       "      <td>9XIM</td>\n",
       "      <td>B</td>\n",
       "      <td>96151</td>\n",
       "      <td>1572</td>\n",
       "      <td>Protein</td>\n",
       "    </tr>\n",
       "    <tr>\n",
       "      <th>467302</th>\n",
       "      <td>9XIM</td>\n",
       "      <td>C</td>\n",
       "      <td>96151</td>\n",
       "      <td>1572</td>\n",
       "      <td>Protein</td>\n",
       "    </tr>\n",
       "    <tr>\n",
       "      <th>467303</th>\n",
       "      <td>9XIM</td>\n",
       "      <td>D</td>\n",
       "      <td>96151</td>\n",
       "      <td>1572</td>\n",
       "      <td>Protein</td>\n",
       "    </tr>\n",
       "  </tbody>\n",
       "</table>\n",
       "<p>432474 rows × 5 columns</p>\n",
       "</div>"
      ],
      "text/plain": [
       "       structureId chainId  sequence  residueCount macromoleculeType\n",
       "0             100D       A      9178            20    DNA/RNA Hybrid\n",
       "1             100D       B      9178            20    DNA/RNA Hybrid\n",
       "2             101D       A      9635            24               DNA\n",
       "3             101D       B      9635            24               DNA\n",
       "4             101M       A     80596           154           Protein\n",
       "...            ...     ...       ...           ...               ...\n",
       "467299        9XIA       A     68952           388           Protein\n",
       "467300        9XIM       A     96151          1572           Protein\n",
       "467301        9XIM       B     96151          1572           Protein\n",
       "467302        9XIM       C     96151          1572           Protein\n",
       "467303        9XIM       D     96151          1572           Protein\n",
       "\n",
       "[432474 rows x 5 columns]"
      ]
     },
     "execution_count": 66,
     "metadata": {},
     "output_type": "execute_result"
    }
   ],
   "source": [
    "df"
   ]
  },
  {
   "cell_type": "code",
   "execution_count": 67,
   "id": "e7a02c38",
   "metadata": {},
   "outputs": [],
   "source": [
    "df[\"macromoleculeType\"] = encoder.fit_transform(df[\"macromoleculeType\"])"
   ]
  },
  {
   "cell_type": "code",
   "execution_count": 68,
   "id": "167dd043",
   "metadata": {},
   "outputs": [
    {
     "data": {
      "text/html": [
       "<div>\n",
       "<style scoped>\n",
       "    .dataframe tbody tr th:only-of-type {\n",
       "        vertical-align: middle;\n",
       "    }\n",
       "\n",
       "    .dataframe tbody tr th {\n",
       "        vertical-align: top;\n",
       "    }\n",
       "\n",
       "    .dataframe thead th {\n",
       "        text-align: right;\n",
       "    }\n",
       "</style>\n",
       "<table border=\"1\" class=\"dataframe\">\n",
       "  <thead>\n",
       "    <tr style=\"text-align: right;\">\n",
       "      <th></th>\n",
       "      <th>structureId</th>\n",
       "      <th>chainId</th>\n",
       "      <th>sequence</th>\n",
       "      <th>residueCount</th>\n",
       "      <th>macromoleculeType</th>\n",
       "    </tr>\n",
       "  </thead>\n",
       "  <tbody>\n",
       "    <tr>\n",
       "      <th>0</th>\n",
       "      <td>100D</td>\n",
       "      <td>A</td>\n",
       "      <td>9178</td>\n",
       "      <td>20</td>\n",
       "      <td>3</td>\n",
       "    </tr>\n",
       "    <tr>\n",
       "      <th>1</th>\n",
       "      <td>100D</td>\n",
       "      <td>B</td>\n",
       "      <td>9178</td>\n",
       "      <td>20</td>\n",
       "      <td>3</td>\n",
       "    </tr>\n",
       "    <tr>\n",
       "      <th>2</th>\n",
       "      <td>101D</td>\n",
       "      <td>A</td>\n",
       "      <td>9635</td>\n",
       "      <td>24</td>\n",
       "      <td>0</td>\n",
       "    </tr>\n",
       "    <tr>\n",
       "      <th>3</th>\n",
       "      <td>101D</td>\n",
       "      <td>B</td>\n",
       "      <td>9635</td>\n",
       "      <td>24</td>\n",
       "      <td>0</td>\n",
       "    </tr>\n",
       "    <tr>\n",
       "      <th>4</th>\n",
       "      <td>101M</td>\n",
       "      <td>A</td>\n",
       "      <td>80596</td>\n",
       "      <td>154</td>\n",
       "      <td>4</td>\n",
       "    </tr>\n",
       "    <tr>\n",
       "      <th>...</th>\n",
       "      <td>...</td>\n",
       "      <td>...</td>\n",
       "      <td>...</td>\n",
       "      <td>...</td>\n",
       "      <td>...</td>\n",
       "    </tr>\n",
       "    <tr>\n",
       "      <th>467299</th>\n",
       "      <td>9XIA</td>\n",
       "      <td>A</td>\n",
       "      <td>68952</td>\n",
       "      <td>388</td>\n",
       "      <td>4</td>\n",
       "    </tr>\n",
       "    <tr>\n",
       "      <th>467300</th>\n",
       "      <td>9XIM</td>\n",
       "      <td>A</td>\n",
       "      <td>96151</td>\n",
       "      <td>1572</td>\n",
       "      <td>4</td>\n",
       "    </tr>\n",
       "    <tr>\n",
       "      <th>467301</th>\n",
       "      <td>9XIM</td>\n",
       "      <td>B</td>\n",
       "      <td>96151</td>\n",
       "      <td>1572</td>\n",
       "      <td>4</td>\n",
       "    </tr>\n",
       "    <tr>\n",
       "      <th>467302</th>\n",
       "      <td>9XIM</td>\n",
       "      <td>C</td>\n",
       "      <td>96151</td>\n",
       "      <td>1572</td>\n",
       "      <td>4</td>\n",
       "    </tr>\n",
       "    <tr>\n",
       "      <th>467303</th>\n",
       "      <td>9XIM</td>\n",
       "      <td>D</td>\n",
       "      <td>96151</td>\n",
       "      <td>1572</td>\n",
       "      <td>4</td>\n",
       "    </tr>\n",
       "  </tbody>\n",
       "</table>\n",
       "<p>432474 rows × 5 columns</p>\n",
       "</div>"
      ],
      "text/plain": [
       "       structureId chainId  sequence  residueCount  macromoleculeType\n",
       "0             100D       A      9178            20                  3\n",
       "1             100D       B      9178            20                  3\n",
       "2             101D       A      9635            24                  0\n",
       "3             101D       B      9635            24                  0\n",
       "4             101M       A     80596           154                  4\n",
       "...            ...     ...       ...           ...                ...\n",
       "467299        9XIA       A     68952           388                  4\n",
       "467300        9XIM       A     96151          1572                  4\n",
       "467301        9XIM       B     96151          1572                  4\n",
       "467302        9XIM       C     96151          1572                  4\n",
       "467303        9XIM       D     96151          1572                  4\n",
       "\n",
       "[432474 rows x 5 columns]"
      ]
     },
     "execution_count": 68,
     "metadata": {},
     "output_type": "execute_result"
    }
   ],
   "source": [
    "df"
   ]
  },
  {
   "cell_type": "code",
   "execution_count": 69,
   "id": "27f1d9ae",
   "metadata": {},
   "outputs": [],
   "source": [
    "df[\"structureId\"] = encoder.fit_transform(df[\"structureId\"])\n",
    "df[\"chainId\"] = encoder.fit_transform(df[\"chainId\"])"
   ]
  },
  {
   "cell_type": "code",
   "execution_count": 70,
   "id": "a1292d36",
   "metadata": {},
   "outputs": [
    {
     "data": {
      "text/html": [
       "<div>\n",
       "<style scoped>\n",
       "    .dataframe tbody tr th:only-of-type {\n",
       "        vertical-align: middle;\n",
       "    }\n",
       "\n",
       "    .dataframe tbody tr th {\n",
       "        vertical-align: top;\n",
       "    }\n",
       "\n",
       "    .dataframe thead th {\n",
       "        text-align: right;\n",
       "    }\n",
       "</style>\n",
       "<table border=\"1\" class=\"dataframe\">\n",
       "  <thead>\n",
       "    <tr style=\"text-align: right;\">\n",
       "      <th></th>\n",
       "      <th>structureId</th>\n",
       "      <th>chainId</th>\n",
       "      <th>sequence</th>\n",
       "      <th>residueCount</th>\n",
       "      <th>macromoleculeType</th>\n",
       "    </tr>\n",
       "  </thead>\n",
       "  <tbody>\n",
       "    <tr>\n",
       "      <th>0</th>\n",
       "      <td>0</td>\n",
       "      <td>583</td>\n",
       "      <td>9178</td>\n",
       "      <td>20</td>\n",
       "      <td>3</td>\n",
       "    </tr>\n",
       "    <tr>\n",
       "      <th>1</th>\n",
       "      <td>0</td>\n",
       "      <td>701</td>\n",
       "      <td>9178</td>\n",
       "      <td>20</td>\n",
       "      <td>3</td>\n",
       "    </tr>\n",
       "    <tr>\n",
       "      <th>2</th>\n",
       "      <td>1</td>\n",
       "      <td>583</td>\n",
       "      <td>9635</td>\n",
       "      <td>24</td>\n",
       "      <td>0</td>\n",
       "    </tr>\n",
       "    <tr>\n",
       "      <th>3</th>\n",
       "      <td>1</td>\n",
       "      <td>701</td>\n",
       "      <td>9635</td>\n",
       "      <td>24</td>\n",
       "      <td>0</td>\n",
       "    </tr>\n",
       "    <tr>\n",
       "      <th>4</th>\n",
       "      <td>2</td>\n",
       "      <td>583</td>\n",
       "      <td>80596</td>\n",
       "      <td>154</td>\n",
       "      <td>4</td>\n",
       "    </tr>\n",
       "    <tr>\n",
       "      <th>...</th>\n",
       "      <td>...</td>\n",
       "      <td>...</td>\n",
       "      <td>...</td>\n",
       "      <td>...</td>\n",
       "      <td>...</td>\n",
       "    </tr>\n",
       "    <tr>\n",
       "      <th>467299</th>\n",
       "      <td>137181</td>\n",
       "      <td>583</td>\n",
       "      <td>68952</td>\n",
       "      <td>388</td>\n",
       "      <td>4</td>\n",
       "    </tr>\n",
       "    <tr>\n",
       "      <th>467300</th>\n",
       "      <td>137182</td>\n",
       "      <td>583</td>\n",
       "      <td>96151</td>\n",
       "      <td>1572</td>\n",
       "      <td>4</td>\n",
       "    </tr>\n",
       "    <tr>\n",
       "      <th>467301</th>\n",
       "      <td>137182</td>\n",
       "      <td>701</td>\n",
       "      <td>96151</td>\n",
       "      <td>1572</td>\n",
       "      <td>4</td>\n",
       "    </tr>\n",
       "    <tr>\n",
       "      <th>467302</th>\n",
       "      <td>137182</td>\n",
       "      <td>819</td>\n",
       "      <td>96151</td>\n",
       "      <td>1572</td>\n",
       "      <td>4</td>\n",
       "    </tr>\n",
       "    <tr>\n",
       "      <th>467303</th>\n",
       "      <td>137182</td>\n",
       "      <td>884</td>\n",
       "      <td>96151</td>\n",
       "      <td>1572</td>\n",
       "      <td>4</td>\n",
       "    </tr>\n",
       "  </tbody>\n",
       "</table>\n",
       "<p>432474 rows × 5 columns</p>\n",
       "</div>"
      ],
      "text/plain": [
       "        structureId  chainId  sequence  residueCount  macromoleculeType\n",
       "0                 0      583      9178            20                  3\n",
       "1                 0      701      9178            20                  3\n",
       "2                 1      583      9635            24                  0\n",
       "3                 1      701      9635            24                  0\n",
       "4                 2      583     80596           154                  4\n",
       "...             ...      ...       ...           ...                ...\n",
       "467299       137181      583     68952           388                  4\n",
       "467300       137182      583     96151          1572                  4\n",
       "467301       137182      701     96151          1572                  4\n",
       "467302       137182      819     96151          1572                  4\n",
       "467303       137182      884     96151          1572                  4\n",
       "\n",
       "[432474 rows x 5 columns]"
      ]
     },
     "execution_count": 70,
     "metadata": {},
     "output_type": "execute_result"
    }
   ],
   "source": [
    "df"
   ]
  },
  {
   "cell_type": "code",
   "execution_count": 71,
   "id": "cc477ee3",
   "metadata": {},
   "outputs": [
    {
     "data": {
      "text/html": [
       "<div>\n",
       "<style scoped>\n",
       "    .dataframe tbody tr th:only-of-type {\n",
       "        vertical-align: middle;\n",
       "    }\n",
       "\n",
       "    .dataframe tbody tr th {\n",
       "        vertical-align: top;\n",
       "    }\n",
       "\n",
       "    .dataframe thead th {\n",
       "        text-align: right;\n",
       "    }\n",
       "</style>\n",
       "<table border=\"1\" class=\"dataframe\">\n",
       "  <thead>\n",
       "    <tr style=\"text-align: right;\">\n",
       "      <th></th>\n",
       "      <th>structureId</th>\n",
       "      <th>chainId</th>\n",
       "      <th>sequence</th>\n",
       "      <th>residueCount</th>\n",
       "      <th>macromoleculeType</th>\n",
       "    </tr>\n",
       "  </thead>\n",
       "  <tbody>\n",
       "    <tr>\n",
       "      <th>structureId</th>\n",
       "      <td>1.000000</td>\n",
       "      <td>0.160756</td>\n",
       "      <td>0.020529</td>\n",
       "      <td>0.101744</td>\n",
       "      <td>0.224929</td>\n",
       "    </tr>\n",
       "    <tr>\n",
       "      <th>chainId</th>\n",
       "      <td>0.160756</td>\n",
       "      <td>1.000000</td>\n",
       "      <td>0.041415</td>\n",
       "      <td>0.209549</td>\n",
       "      <td>0.202599</td>\n",
       "    </tr>\n",
       "    <tr>\n",
       "      <th>sequence</th>\n",
       "      <td>0.020529</td>\n",
       "      <td>0.041415</td>\n",
       "      <td>1.000000</td>\n",
       "      <td>0.091405</td>\n",
       "      <td>0.023955</td>\n",
       "    </tr>\n",
       "    <tr>\n",
       "      <th>residueCount</th>\n",
       "      <td>0.101744</td>\n",
       "      <td>0.209549</td>\n",
       "      <td>0.091405</td>\n",
       "      <td>1.000000</td>\n",
       "      <td>0.161376</td>\n",
       "    </tr>\n",
       "    <tr>\n",
       "      <th>macromoleculeType</th>\n",
       "      <td>0.224929</td>\n",
       "      <td>0.202599</td>\n",
       "      <td>0.023955</td>\n",
       "      <td>0.161376</td>\n",
       "      <td>1.000000</td>\n",
       "    </tr>\n",
       "  </tbody>\n",
       "</table>\n",
       "</div>"
      ],
      "text/plain": [
       "                   structureId   chainId  sequence  residueCount  \\\n",
       "structureId           1.000000  0.160756  0.020529      0.101744   \n",
       "chainId               0.160756  1.000000  0.041415      0.209549   \n",
       "sequence              0.020529  0.041415  1.000000      0.091405   \n",
       "residueCount          0.101744  0.209549  0.091405      1.000000   \n",
       "macromoleculeType     0.224929  0.202599  0.023955      0.161376   \n",
       "\n",
       "                   macromoleculeType  \n",
       "structureId                 0.224929  \n",
       "chainId                     0.202599  \n",
       "sequence                    0.023955  \n",
       "residueCount                0.161376  \n",
       "macromoleculeType           1.000000  "
      ]
     },
     "execution_count": 71,
     "metadata": {},
     "output_type": "execute_result"
    }
   ],
   "source": [
    "df.corr()"
   ]
  },
  {
   "cell_type": "code",
   "execution_count": 72,
   "id": "1fbd3b01",
   "metadata": {},
   "outputs": [],
   "source": [
    "df = shuffle(df, random_state=10)"
   ]
  },
  {
   "cell_type": "code",
   "execution_count": 73,
   "id": "d73254a4",
   "metadata": {},
   "outputs": [
    {
     "data": {
      "text/html": [
       "<div>\n",
       "<style scoped>\n",
       "    .dataframe tbody tr th:only-of-type {\n",
       "        vertical-align: middle;\n",
       "    }\n",
       "\n",
       "    .dataframe tbody tr th {\n",
       "        vertical-align: top;\n",
       "    }\n",
       "\n",
       "    .dataframe thead th {\n",
       "        text-align: right;\n",
       "    }\n",
       "</style>\n",
       "<table border=\"1\" class=\"dataframe\">\n",
       "  <thead>\n",
       "    <tr style=\"text-align: right;\">\n",
       "      <th></th>\n",
       "      <th>structureId</th>\n",
       "      <th>chainId</th>\n",
       "      <th>sequence</th>\n",
       "      <th>residueCount</th>\n",
       "      <th>macromoleculeType</th>\n",
       "    </tr>\n",
       "  </thead>\n",
       "  <tbody>\n",
       "    <tr>\n",
       "      <th>182591</th>\n",
       "      <td>68029</td>\n",
       "      <td>308</td>\n",
       "      <td>83705</td>\n",
       "      <td>313236</td>\n",
       "      <td>4</td>\n",
       "    </tr>\n",
       "    <tr>\n",
       "      <th>283452</th>\n",
       "      <td>96769</td>\n",
       "      <td>583</td>\n",
       "      <td>3942</td>\n",
       "      <td>204</td>\n",
       "      <td>4</td>\n",
       "    </tr>\n",
       "    <tr>\n",
       "      <th>359139</th>\n",
       "      <td>110485</td>\n",
       "      <td>1337</td>\n",
       "      <td>12139</td>\n",
       "      <td>1347</td>\n",
       "      <td>4</td>\n",
       "    </tr>\n",
       "    <tr>\n",
       "      <th>109938</th>\n",
       "      <td>43227</td>\n",
       "      <td>583</td>\n",
       "      <td>54853</td>\n",
       "      <td>163</td>\n",
       "      <td>4</td>\n",
       "    </tr>\n",
       "    <tr>\n",
       "      <th>342010</th>\n",
       "      <td>108606</td>\n",
       "      <td>647</td>\n",
       "      <td>69895</td>\n",
       "      <td>22204</td>\n",
       "      <td>9</td>\n",
       "    </tr>\n",
       "    <tr>\n",
       "      <th>...</th>\n",
       "      <td>...</td>\n",
       "      <td>...</td>\n",
       "      <td>...</td>\n",
       "      <td>...</td>\n",
       "      <td>...</td>\n",
       "    </tr>\n",
       "    <tr>\n",
       "      <th>114134</th>\n",
       "      <td>46008</td>\n",
       "      <td>701</td>\n",
       "      <td>51809</td>\n",
       "      <td>822</td>\n",
       "      <td>4</td>\n",
       "    </tr>\n",
       "    <tr>\n",
       "      <th>101527</th>\n",
       "      <td>39327</td>\n",
       "      <td>583</td>\n",
       "      <td>69058</td>\n",
       "      <td>492</td>\n",
       "      <td>4</td>\n",
       "    </tr>\n",
       "    <tr>\n",
       "      <th>391292</th>\n",
       "      <td>119025</td>\n",
       "      <td>583</td>\n",
       "      <td>53551</td>\n",
       "      <td>103</td>\n",
       "      <td>4</td>\n",
       "    </tr>\n",
       "    <tr>\n",
       "      <th>261317</th>\n",
       "      <td>89495</td>\n",
       "      <td>701</td>\n",
       "      <td>74960</td>\n",
       "      <td>452</td>\n",
       "      <td>4</td>\n",
       "    </tr>\n",
       "    <tr>\n",
       "      <th>379684</th>\n",
       "      <td>116008</td>\n",
       "      <td>2308</td>\n",
       "      <td>103368</td>\n",
       "      <td>10482</td>\n",
       "      <td>4</td>\n",
       "    </tr>\n",
       "  </tbody>\n",
       "</table>\n",
       "<p>432474 rows × 5 columns</p>\n",
       "</div>"
      ],
      "text/plain": [
       "        structureId  chainId  sequence  residueCount  macromoleculeType\n",
       "182591        68029      308     83705        313236                  4\n",
       "283452        96769      583      3942           204                  4\n",
       "359139       110485     1337     12139          1347                  4\n",
       "109938        43227      583     54853           163                  4\n",
       "342010       108606      647     69895         22204                  9\n",
       "...             ...      ...       ...           ...                ...\n",
       "114134        46008      701     51809           822                  4\n",
       "101527        39327      583     69058           492                  4\n",
       "391292       119025      583     53551           103                  4\n",
       "261317        89495      701     74960           452                  4\n",
       "379684       116008     2308    103368         10482                  4\n",
       "\n",
       "[432474 rows x 5 columns]"
      ]
     },
     "execution_count": 73,
     "metadata": {},
     "output_type": "execute_result"
    }
   ],
   "source": [
    "df"
   ]
  },
  {
   "cell_type": "code",
   "execution_count": 74,
   "id": "877b4fee",
   "metadata": {},
   "outputs": [
    {
     "data": {
      "text/html": [
       "<div>\n",
       "<style scoped>\n",
       "    .dataframe tbody tr th:only-of-type {\n",
       "        vertical-align: middle;\n",
       "    }\n",
       "\n",
       "    .dataframe tbody tr th {\n",
       "        vertical-align: top;\n",
       "    }\n",
       "\n",
       "    .dataframe thead th {\n",
       "        text-align: right;\n",
       "    }\n",
       "</style>\n",
       "<table border=\"1\" class=\"dataframe\">\n",
       "  <thead>\n",
       "    <tr style=\"text-align: right;\">\n",
       "      <th></th>\n",
       "      <th>structureId</th>\n",
       "      <th>chainId</th>\n",
       "      <th>sequence</th>\n",
       "      <th>residueCount</th>\n",
       "      <th>macromoleculeType</th>\n",
       "    </tr>\n",
       "  </thead>\n",
       "  <tbody>\n",
       "    <tr>\n",
       "      <th>0</th>\n",
       "      <td>68029</td>\n",
       "      <td>308</td>\n",
       "      <td>83705</td>\n",
       "      <td>313236</td>\n",
       "      <td>4</td>\n",
       "    </tr>\n",
       "    <tr>\n",
       "      <th>1</th>\n",
       "      <td>96769</td>\n",
       "      <td>583</td>\n",
       "      <td>3942</td>\n",
       "      <td>204</td>\n",
       "      <td>4</td>\n",
       "    </tr>\n",
       "    <tr>\n",
       "      <th>2</th>\n",
       "      <td>110485</td>\n",
       "      <td>1337</td>\n",
       "      <td>12139</td>\n",
       "      <td>1347</td>\n",
       "      <td>4</td>\n",
       "    </tr>\n",
       "    <tr>\n",
       "      <th>3</th>\n",
       "      <td>43227</td>\n",
       "      <td>583</td>\n",
       "      <td>54853</td>\n",
       "      <td>163</td>\n",
       "      <td>4</td>\n",
       "    </tr>\n",
       "    <tr>\n",
       "      <th>4</th>\n",
       "      <td>108606</td>\n",
       "      <td>647</td>\n",
       "      <td>69895</td>\n",
       "      <td>22204</td>\n",
       "      <td>9</td>\n",
       "    </tr>\n",
       "    <tr>\n",
       "      <th>...</th>\n",
       "      <td>...</td>\n",
       "      <td>...</td>\n",
       "      <td>...</td>\n",
       "      <td>...</td>\n",
       "      <td>...</td>\n",
       "    </tr>\n",
       "    <tr>\n",
       "      <th>432469</th>\n",
       "      <td>46008</td>\n",
       "      <td>701</td>\n",
       "      <td>51809</td>\n",
       "      <td>822</td>\n",
       "      <td>4</td>\n",
       "    </tr>\n",
       "    <tr>\n",
       "      <th>432470</th>\n",
       "      <td>39327</td>\n",
       "      <td>583</td>\n",
       "      <td>69058</td>\n",
       "      <td>492</td>\n",
       "      <td>4</td>\n",
       "    </tr>\n",
       "    <tr>\n",
       "      <th>432471</th>\n",
       "      <td>119025</td>\n",
       "      <td>583</td>\n",
       "      <td>53551</td>\n",
       "      <td>103</td>\n",
       "      <td>4</td>\n",
       "    </tr>\n",
       "    <tr>\n",
       "      <th>432472</th>\n",
       "      <td>89495</td>\n",
       "      <td>701</td>\n",
       "      <td>74960</td>\n",
       "      <td>452</td>\n",
       "      <td>4</td>\n",
       "    </tr>\n",
       "    <tr>\n",
       "      <th>432473</th>\n",
       "      <td>116008</td>\n",
       "      <td>2308</td>\n",
       "      <td>103368</td>\n",
       "      <td>10482</td>\n",
       "      <td>4</td>\n",
       "    </tr>\n",
       "  </tbody>\n",
       "</table>\n",
       "<p>432474 rows × 5 columns</p>\n",
       "</div>"
      ],
      "text/plain": [
       "        structureId  chainId  sequence  residueCount  macromoleculeType\n",
       "0             68029      308     83705        313236                  4\n",
       "1             96769      583      3942           204                  4\n",
       "2            110485     1337     12139          1347                  4\n",
       "3             43227      583     54853           163                  4\n",
       "4            108606      647     69895         22204                  9\n",
       "...             ...      ...       ...           ...                ...\n",
       "432469        46008      701     51809           822                  4\n",
       "432470        39327      583     69058           492                  4\n",
       "432471       119025      583     53551           103                  4\n",
       "432472        89495      701     74960           452                  4\n",
       "432473       116008     2308    103368         10482                  4\n",
       "\n",
       "[432474 rows x 5 columns]"
      ]
     },
     "execution_count": 74,
     "metadata": {},
     "output_type": "execute_result"
    }
   ],
   "source": [
    "df.reset_index(inplace=True)\n",
    "df.drop(columns=[\"index\"], inplace=True)\n",
    "df"
   ]
  },
  {
   "cell_type": "code",
   "execution_count": 75,
   "id": "f3644b49",
   "metadata": {},
   "outputs": [],
   "source": [
    "dfSample = df.iloc[:100, :]"
   ]
  },
  {
   "cell_type": "code",
   "execution_count": 76,
   "id": "26787f85",
   "metadata": {},
   "outputs": [
    {
     "data": {
      "text/html": [
       "<div>\n",
       "<style scoped>\n",
       "    .dataframe tbody tr th:only-of-type {\n",
       "        vertical-align: middle;\n",
       "    }\n",
       "\n",
       "    .dataframe tbody tr th {\n",
       "        vertical-align: top;\n",
       "    }\n",
       "\n",
       "    .dataframe thead th {\n",
       "        text-align: right;\n",
       "    }\n",
       "</style>\n",
       "<table border=\"1\" class=\"dataframe\">\n",
       "  <thead>\n",
       "    <tr style=\"text-align: right;\">\n",
       "      <th></th>\n",
       "      <th>structureId</th>\n",
       "      <th>chainId</th>\n",
       "      <th>sequence</th>\n",
       "      <th>residueCount</th>\n",
       "      <th>macromoleculeType</th>\n",
       "    </tr>\n",
       "  </thead>\n",
       "  <tbody>\n",
       "    <tr>\n",
       "      <th>0</th>\n",
       "      <td>68029</td>\n",
       "      <td>308</td>\n",
       "      <td>83705</td>\n",
       "      <td>313236</td>\n",
       "      <td>4</td>\n",
       "    </tr>\n",
       "    <tr>\n",
       "      <th>1</th>\n",
       "      <td>96769</td>\n",
       "      <td>583</td>\n",
       "      <td>3942</td>\n",
       "      <td>204</td>\n",
       "      <td>4</td>\n",
       "    </tr>\n",
       "    <tr>\n",
       "      <th>2</th>\n",
       "      <td>110485</td>\n",
       "      <td>1337</td>\n",
       "      <td>12139</td>\n",
       "      <td>1347</td>\n",
       "      <td>4</td>\n",
       "    </tr>\n",
       "    <tr>\n",
       "      <th>3</th>\n",
       "      <td>43227</td>\n",
       "      <td>583</td>\n",
       "      <td>54853</td>\n",
       "      <td>163</td>\n",
       "      <td>4</td>\n",
       "    </tr>\n",
       "    <tr>\n",
       "      <th>4</th>\n",
       "      <td>108606</td>\n",
       "      <td>647</td>\n",
       "      <td>69895</td>\n",
       "      <td>22204</td>\n",
       "      <td>9</td>\n",
       "    </tr>\n",
       "    <tr>\n",
       "      <th>...</th>\n",
       "      <td>...</td>\n",
       "      <td>...</td>\n",
       "      <td>...</td>\n",
       "      <td>...</td>\n",
       "      <td>...</td>\n",
       "    </tr>\n",
       "    <tr>\n",
       "      <th>95</th>\n",
       "      <td>120258</td>\n",
       "      <td>583</td>\n",
       "      <td>74140</td>\n",
       "      <td>2780</td>\n",
       "      <td>9</td>\n",
       "    </tr>\n",
       "    <tr>\n",
       "      <th>96</th>\n",
       "      <td>55502</td>\n",
       "      <td>884</td>\n",
       "      <td>85075</td>\n",
       "      <td>2120</td>\n",
       "      <td>4</td>\n",
       "    </tr>\n",
       "    <tr>\n",
       "      <th>97</th>\n",
       "      <td>52626</td>\n",
       "      <td>1192</td>\n",
       "      <td>79963</td>\n",
       "      <td>3760</td>\n",
       "      <td>4</td>\n",
       "    </tr>\n",
       "    <tr>\n",
       "      <th>98</th>\n",
       "      <td>7049</td>\n",
       "      <td>701</td>\n",
       "      <td>47251</td>\n",
       "      <td>1182</td>\n",
       "      <td>4</td>\n",
       "    </tr>\n",
       "    <tr>\n",
       "      <th>99</th>\n",
       "      <td>77717</td>\n",
       "      <td>1192</td>\n",
       "      <td>82089</td>\n",
       "      <td>308</td>\n",
       "      <td>4</td>\n",
       "    </tr>\n",
       "  </tbody>\n",
       "</table>\n",
       "<p>100 rows × 5 columns</p>\n",
       "</div>"
      ],
      "text/plain": [
       "    structureId  chainId  sequence  residueCount  macromoleculeType\n",
       "0         68029      308     83705        313236                  4\n",
       "1         96769      583      3942           204                  4\n",
       "2        110485     1337     12139          1347                  4\n",
       "3         43227      583     54853           163                  4\n",
       "4        108606      647     69895         22204                  9\n",
       "..          ...      ...       ...           ...                ...\n",
       "95       120258      583     74140          2780                  9\n",
       "96        55502      884     85075          2120                  4\n",
       "97        52626     1192     79963          3760                  4\n",
       "98         7049      701     47251          1182                  4\n",
       "99        77717     1192     82089           308                  4\n",
       "\n",
       "[100 rows x 5 columns]"
      ]
     },
     "execution_count": 76,
     "metadata": {},
     "output_type": "execute_result"
    }
   ],
   "source": [
    "dfSample"
   ]
  },
  {
   "cell_type": "code",
   "execution_count": 78,
   "id": "e396c0db",
   "metadata": {},
   "outputs": [
    {
     "data": {
      "text/plain": [
       "<matplotlib.collections.PathCollection at 0x7fe394956f50>"
      ]
     },
     "execution_count": 78,
     "metadata": {},
     "output_type": "execute_result"
    },
    {
     "data": {
      "image/png": "[encoded data removed]",
      "text/plain": [
       "<Figure size 640x480 with 1 Axes>"
      ]
     },
     "metadata": {},
     "output_type": "display_data"
    }
   ],
   "source": [
    "plt.scatter(dfSample[\"chainId\"], dfSample[\"macromoleculeType\"])"
   ]
  },
  {
   "cell_type": "code",
   "execution_count": 84,
   "id": "ca522146",
   "metadata": {},
   "outputs": [
    {
     "data": {
      "image/png": "[encoded data removed]",
      "text/plain": [
       "<Figure size 640x480 with 1 Axes>"
      ]
     },
     "metadata": {},
     "output_type": "display_data"
    },
    {
     "data": {
      "image/png": "[encoded data removed]",
      "text/plain": [
       "<Figure size 640x480 with 1 Axes>"
      ]
     },
     "metadata": {},
     "output_type": "display_data"
    },
    {
     "data": {
      "image/png": "[encoded data removed]",
      "text/plain": [
       "<Figure size 640x480 with 1 Axes>"
      ]
     },
     "metadata": {},
     "output_type": "display_data"
    },
    {
     "data": {
      "image/png": "[encoded data removed]",
      "text/plain": [
       "<Figure size 640x480 with 1 Axes>"
      ]
     },
     "metadata": {},
     "output_type": "display_data"
    }
   ],
   "source": [
    "for col in dfSample.columns[:-1]:\n",
    "    plt.scatter(dfSample[col], dfSample[\"macromoleculeType\"])\n",
    "    plt.xlabel(col)\n",
    "    plt.ylabel(\"macromoleculeType\")\n",
    "    plt.title(col+\" v/s macromoleculeType\")\n",
    "    plt.show()"
   ]
  },
  {
   "cell_type": "code",
   "execution_count": 85,
   "id": "a6102273",
   "metadata": {},
   "outputs": [
    {
     "data": {
      "image/png": "[encoded data removed]",
      "text/plain": [
       "<Figure size 640x480 with 1 Axes>"
      ]
     },
     "metadata": {},
     "output_type": "display_data"
    },
    {
     "data": {
      "image/png": "[encoded data removed]",
      "text/plain": [
       "<Figure size 640x480 with 1 Axes>"
      ]
     },
     "metadata": {},
     "output_type": "display_data"
    },
    {
     "data": {
      "image/png": "[encoded data removed]",
      "text/plain": [
       "<Figure size 640x480 with 1 Axes>"
      ]
     },
     "metadata": {},
     "output_type": "display_data"
    },
    {
     "data": {
      "image/png": "[encoded data removed]",
      "text/plain": [
       "<Figure size 640x480 with 1 Axes>"
      ]
     },
     "metadata": {},
     "output_type": "display_data"
    }
   ],
   "source": [
    "for col in df.columns[:-1]:\n",
    "    plt.scatter(df[col], df[\"macromoleculeType\"])\n",
    "    plt.xlabel(col)\n",
    "    plt.ylabel(\"macromoleculeType\")\n",
    "    plt.title(col+\" v/s macromoleculeType\")\n",
    "    plt.show()"
   ]
  },
  {
   "cell_type": "code",
   "execution_count": null,
   "id": "b252da40",
   "metadata": {},
   "outputs": [],
   "source": []
  }
 ],
 "metadata": {
  "kernelspec": {
   "display_name": "Python 3 (ipykernel)",
   "language": "python",
   "name": "python3"
  },
  "language_info": {
   "codemirror_mode": {
    "name": "ipython",
    "version": 3
   },
   "file_extension": ".py",
   "mimetype": "text/x-python",
   "name": "python",
   "nbconvert_exporter": "python",
   "pygments_lexer": "ipython3",
   "version": "3.10.9"
  }
 },
 "nbformat": 4,
 "nbformat_minor": 5
}
